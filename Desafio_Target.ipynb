{
 "cells": [
  {
   "attachments": {},
   "cell_type": "markdown",
   "metadata": {},
   "source": [
    "# 1) Observe o trecho de código abaixo:\n",
    "\n",
    "int INDICE = 13, SOMA = 0, K = 0;\n",
    "\n",
    "```'python'\n",
    "enquanto K < INDICE faça\n",
    "\n",
    "{\n",
    "\n",
    "K = K + 1;\n",
    "\n",
    "SOMA = SOMA + K;\n",
    "\n",
    "}\n",
    "\n",
    "imprimir(SOMA);\n",
    "```\n",
    "\n",
    "\n",
    "\n",
    "# Ao final do processamento, qual será o valor da variável SOMA?"
   ]
  },
  {
   "cell_type": "code",
   "execution_count": 1,
   "metadata": {},
   "outputs": [
    {
     "name": "stdout",
     "output_type": "stream",
     "text": [
      "91\n"
     ]
    }
   ],
   "source": [
    "indice = 13\n",
    "soma = 0\n",
    "k = 0 \n",
    "\n",
    "while k < indice:\n",
    "    k += 1\n",
    "    soma += k\n",
    "print(soma)\n"
   ]
  },
  {
   "attachments": {},
   "cell_type": "markdown",
   "metadata": {},
   "source": [
    "# Resposta: **91**"
   ]
  },
  {
   "attachments": {},
   "cell_type": "markdown",
   "metadata": {},
   "source": [
    "# 2) Dado a sequência de Fibonacci, onde se inicia por 0 e 1 e o próximo valor sempre será a soma dos 2 valores anteriores (exemplo: 0, 1, 1, 2, 3, 5, 8, 13, 21, 34...), escreva um programa na linguagem que desejar onde, informado um número, ele calcule a sequência de Fibonacci e retorne uma mensagem avisando se o número informado pertence ou não a sequência."
   ]
  },
  {
   "cell_type": "code",
   "execution_count": null,
   "metadata": {},
   "outputs": [],
   "source": [
    "def fibonacciFinder(numero):\n",
    "    fib = [0,1]\n",
    "    index = 0\n",
    "    while max(fib) < numero:\n",
    "        fib.append(fib[index] + fib[index + 1])\n",
    "        index += 1\n",
    "\n",
    "    numInFib = fib.count(numero)\n",
    "    \n",
    "    if numInFib:\n",
    "        return print(f'o número {numero} está na sequencia de Fibonacci e é a {fib.index(numero)+1}ª ocorrencia na mesma')\n",
    "    return print(f'O número {numero} não faz parte da sequencia de Fibonacci, o número mais próximo é {fib[-1]}')\n",
    "\n",
    "# O numero para testes deve ser informado em uma das chamadas da função abaixo:\n",
    "fibonacciFinder(555)\n",
    "fibonacciFinder(987)"
   ]
  },
  {
   "attachments": {},
   "cell_type": "markdown",
   "metadata": {},
   "source": [
    "# 3) Descubra a lógica e complete o próximo elemento:\n",
    "\n",
    "\n",
    "\n",
    "### a) 1, 3, 5, 7, ___  \n",
    "\n",
    "### b) 2, 4, 8, 16, 32, 64, ____\n",
    "\n",
    "### c) 0, 1, 4, 9, 16, 25, 36, ____\n",
    "\n",
    "### d) 4, 16, 36, 64, ____\n",
    "\n",
    "### e) 1, 1, 2, 3, 5, 8, ____\n",
    "\n",
    "### f) 2,10, 12, 16, 17, 18, 19, ____"
   ]
  },
  {
   "attachments": {},
   "cell_type": "markdown",
   "metadata": {},
   "source": [
    "## Respostas\n",
    "\n",
    "#### a) póximo númeor da sequencia é **9** \n",
    "\n",
    "#### b) póximo númeor da sequencia é **128** \n",
    "\n",
    "#### c) póximo númeor da sequencia é **49** \n",
    "\n",
    "#### d) póximo númeor da sequencia é **100** \n",
    "\n",
    "#### e) póximo númeor da sequencia é **13** \n",
    "\n",
    "#### f) póximo númeor da sequencia é **20** "
   ]
  },
  {
   "attachments": {},
   "cell_type": "markdown",
   "metadata": {},
   "source": [
    "\n",
    "# 5) Escreva um programa que inverta os caracteres de um string."
   ]
  },
  {
   "cell_type": "code",
   "execution_count": null,
   "metadata": {},
   "outputs": [],
   "source": [
    "def stringInverter(string):\n",
    "    reverse_list = []\n",
    "    \n",
    "    for l in string:\n",
    "        reverse_list.insert(0,l)\n",
    "    \n",
    "    reverse_string = \"\"\n",
    "    \n",
    "    for i in reverse_list:\n",
    "        reverse_string += i\n",
    "    \n",
    "    print(reverse_string)\n",
    "\n",
    "# A string para testes deve ser informada em uma das chamadas da função abaixo:\n",
    "\n",
    "stringInverter(\"teste\")   \n",
    "stringInverter(\"Target Sistemas\")   "
   ]
  }
 ],
 "metadata": {
  "kernelspec": {
   "display_name": "Python 3",
   "language": "python",
   "name": "python3"
  },
  "language_info": {
   "codemirror_mode": {
    "name": "ipython",
    "version": 3
   },
   "file_extension": ".py",
   "mimetype": "text/x-python",
   "name": "python",
   "nbconvert_exporter": "python",
   "pygments_lexer": "ipython3",
   "version": "3.11.2"
  },
  "orig_nbformat": 4
 },
 "nbformat": 4,
 "nbformat_minor": 2
}
